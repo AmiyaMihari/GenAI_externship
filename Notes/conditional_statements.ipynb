{
 "cells": [
  {
   "cell_type": "markdown",
   "id": "c0cd2055",
   "metadata": {},
   "source": [
    "# Lesson: Conditional Statements"
   ]
  },
  {
   "cell_type": "markdown",
   "id": "ee1e73ff",
   "metadata": {},
   "source": [
    "if, elif, and else Statements\n",
    "\n"
   ]
  },
  {
   "cell_type": "code",
   "execution_count": 9,
   "id": "9883e8de",
   "metadata": {},
   "outputs": [
    {
     "name": "stdout",
     "output_type": "stream",
     "text": [
      "Just made it!\n"
     ]
    }
   ],
   "source": [
    "age = 18\n",
    "if age > 18:\n",
    "\n",
    "    print(\"You can vote!\")\n",
    "\n",
    "elif age == 18:\n",
    "\n",
    "    print(\"Just made it!\")\n",
    "else:\n",
    "\n",
    "    print(\"Sorry, you're too young.\")"
   ]
  },
  {
   "cell_type": "markdown",
   "id": "7786b17c",
   "metadata": {},
   "source": [
    "Comparison Operators\n"
   ]
  },
  {
   "cell_type": "code",
   "execution_count": 14,
   "id": "61d05a5f",
   "metadata": {},
   "outputs": [
    {
     "name": "stdout",
     "output_type": "stream",
     "text": [
      "ID required\n"
     ]
    }
   ],
   "source": [
    "age = 20\n",
    "has_id = False\n",
    "\n",
    "if age > 18:\n",
    "\n",
    "    if has_id:\n",
    "\n",
    "        print(\"Access granted\")\n",
    "\n",
    "    else:\n",
    "\n",
    "        print(\"ID required\")"
   ]
  },
  {
   "cell_type": "markdown",
   "id": "939105cf",
   "metadata": {},
   "source": [
    "Boolean Logic\n"
   ]
  },
  {
   "cell_type": "code",
   "execution_count": 16,
   "id": "dbf266e1",
   "metadata": {},
   "outputs": [
    {
     "name": "stdout",
     "output_type": "stream",
     "text": [
      "You cannot vote!\n"
     ]
    }
   ],
   "source": [
    "age = 20\n",
    "registered = False\n",
    "\n",
    "if age >= 18 and registered:\n",
    "    print(\"You can vote!\")\n",
    "else:\n",
    "    print(\"You cannot vote!\")"
   ]
  },
  {
   "cell_type": "code",
   "execution_count": 18,
   "id": "89e5e836",
   "metadata": {},
   "outputs": [
    {
     "name": "stdout",
     "output_type": "stream",
     "text": [
      "1\n"
     ]
    }
   ],
   "source": [
    "x=7\n",
    "y=3\n",
    "print(x%y) # Output: 1, which is the remainder of 7 divided by 3"
   ]
  },
  {
   "cell_type": "markdown",
   "id": "ced9c084",
   "metadata": {},
   "source": [
    "Ejemplo"
   ]
  }
 ],
 "metadata": {
  "kernelspec": {
   "display_name": "venv",
   "language": "python",
   "name": "python3"
  },
  "language_info": {
   "codemirror_mode": {
    "name": "ipython",
    "version": 3
   },
   "file_extension": ".py",
   "mimetype": "text/x-python",
   "name": "python",
   "nbconvert_exporter": "python",
   "pygments_lexer": "ipython3",
   "version": "3.13.3"
  }
 },
 "nbformat": 4,
 "nbformat_minor": 5
}
