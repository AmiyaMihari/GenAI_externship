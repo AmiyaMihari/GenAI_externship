{
 "cells": [
  {
   "cell_type": "markdown",
   "id": "2e8ed33d",
   "metadata": {},
   "source": [
    "# Loops in Python\n",
    "- While Loop: For iterative processes.\n",
    "- For Loop: For controlled repetition.\n",
    "- Nested Loop: A Loop inside another loop."
   ]
  },
  {
   "cell_type": "markdown",
   "id": "81864cb3",
   "metadata": {},
   "source": [
    "# For Loop\n",
    "A for loop lets you go through each item in a collection, like a list or a range of numbers. Think of it as saying, \"for every item, do this.\"\n",
    "\n",
    "- A for loop is great for iterating over items in a sequence or repeating an action a set number of times.\n",
    "- The loop variable (like item or i) takes each value from the sequence.\n",
    "- range() is commonly used with for loops for a controlled number of iterations."
   ]
  },
  {
   "cell_type": "code",
   "execution_count": 7,
   "id": "0cb910f7",
   "metadata": {},
   "outputs": [
    {
     "name": "stdout",
     "output_type": "stream",
     "text": [
      "0\n",
      "1\n",
      "2\n",
      "3\n",
      "4\n"
     ]
    }
   ],
   "source": [
    "# For loop\n",
    "for i in range(5):\n",
    "    print(i)  # This will print numbers 0 to 4"
   ]
  },
  {
   "cell_type": "markdown",
   "id": "419ad151",
   "metadata": {},
   "source": [
    "# While Loop\n",
    "A while loop keeps going as long as a condition is True. It's perfect when you don’t know exactly how many times you'll need to repeat something.\n",
    "\n",
    "Key Points To Remember\n",
    "\n",
    "- while loops are condition-driven, and they continue as long as the condition is True.\n",
    "- Remember to change the loop condition inside the loop to avoid infinite loops.\n",
    "- Use break to exit early and continue to skip to the next iteration if needed."
   ]
  },
  {
   "cell_type": "code",
   "execution_count": 8,
   "id": "8614c4b3",
   "metadata": {},
   "outputs": [
    {
     "name": "stdout",
     "output_type": "stream",
     "text": [
      "0\n",
      "1\n",
      "2\n",
      "3\n",
      "4\n"
     ]
    }
   ],
   "source": [
    "count = 0\n",
    "\n",
    "while count < 5:\n",
    "    print(count)\n",
    "    count += 1"
   ]
  },
  {
   "cell_type": "markdown",
   "id": "fb6b6869",
   "metadata": {},
   "source": [
    "# Nested Loops\n",
    "In Python, nested loops refer to a loop inside another loop. Nested loops allow you to perform repeated actions within each iteration of an outer loop, enabling complex iteration patterns. Both for and while loops can be nested within each other, allowing for flexibility in loop structures."
   ]
  },
  {
   "cell_type": "code",
   "execution_count": null,
   "id": "63ec1a06",
   "metadata": {},
   "outputs": [
    {
     "name": "stdout",
     "output_type": "stream",
     "text": [
      "i = 0, j = 0\n",
      "i = 0, j = 1\n",
      "i = 1, j = 0\n",
      "i = 1, j = 1\n",
      "i = 2, j = 0\n",
      "i = 2, j = 1\n"
     ]
    }
   ],
   "source": [
    "# Example of a Nested for Loop\n",
    "for i in range(3): # Outer loop\n",
    "       for j in range(2): # Inner loop\n",
    "        print(f\"i = {i}, j = {j}\")"
   ]
  },
  {
   "cell_type": "code",
   "execution_count": 12,
   "id": "444a4803",
   "metadata": {},
   "outputs": [
    {
     "name": "stdout",
     "output_type": "stream",
     "text": [
      "i = 0, j = 0\n",
      "i = 0, j = 1\n",
      "i = 1, j = 0\n",
      "i = 1, j = 1\n",
      "i = 2, j = 0\n",
      "i = 2, j = 1\n"
     ]
    }
   ],
   "source": [
    "# Example of a Nested while Loop\n",
    "i = 0\n",
    "while i < 3:\n",
    "    j = 0\n",
    "    while j < 2:\n",
    "        print(f\"i = {i}, j = {j}\")\n",
    "        j += 1\n",
    "    i += 1"
   ]
  },
  {
   "cell_type": "markdown",
   "id": "303eec09",
   "metadata": {},
   "source": [
    "Practical Example: Multiplication Table\n",
    "\n",
    "Here’s a nested loop example that prints a multiplication table.\n"
   ]
  },
  {
   "cell_type": "code",
   "execution_count": 1,
   "id": "c70b7aca",
   "metadata": {},
   "outputs": [
    {
     "name": "stdout",
     "output_type": "stream",
     "text": [
      " 1  2  3  4  5 \n",
      " 2  4  6  8 10 \n",
      " 3  6  9 12 15 \n",
      " 4  8 12 16 20 \n",
      " 5 10 15 20 25 \n"
     ]
    }
   ],
   "source": [
    "for i in range(1, 6):\n",
    "    for j in range(1, 6):\n",
    "        print(f\"{i * j:2}\", end=\" \")\n",
    "    print() # Newline after each row"
   ]
  },
  {
   "cell_type": "code",
   "execution_count": 2,
   "id": "8548d91e",
   "metadata": {},
   "outputs": [
    {
     "name": "stdout",
     "output_type": "stream",
     "text": [
      "Squares: [0, 1, 4, 9, 16, 25, 36, 49, 64, 81]\n"
     ]
    }
   ],
   "source": [
    "# Example of a for loop to create a list\n",
    "squares = [x**2 for x in range(10)]\n",
    "print(\"Squares:\", squares)"
   ]
  },
  {
   "cell_type": "code",
   "execution_count": 6,
   "id": "0cd4a4e8",
   "metadata": {},
   "outputs": [
    {
     "name": "stdout",
     "output_type": "stream",
     "text": [
      "You entered: a\n",
      "You entered: a\n",
      "You entered: a\n",
      "You entered: s\n",
      "You entered: s\n",
      "Exiting the loop.\n"
     ]
    }
   ],
   "source": [
    "# Example of a while loop with break\n",
    "while True:\n",
    "    user_input = input(\"Enter 'exit' to stop: \")\n",
    "    if user_input.lower() == 'exit':\n",
    "        print(\"Exiting the loop.\")\n",
    "        break\n",
    "    else:\n",
    "        print(f\"You entered: {user_input}\")"
   ]
  },
  {
   "cell_type": "code",
   "execution_count": 5,
   "id": "4394d89b",
   "metadata": {},
   "outputs": [
    {
     "name": "stdout",
     "output_type": "stream",
     "text": [
      "Too low!\n",
      "Too low!\n",
      "Too low!\n",
      "Too low!\n",
      "Too low!\n",
      "Too low!\n",
      "Too low!\n",
      "Congratulations! You've guessed the number.\n"
     ]
    }
   ],
   "source": [
    "# Example of a while to guess a number\n",
    "import random\n",
    "secret_number = random.randint(1, 10)\n",
    "guess = 0\n",
    "while guess != secret_number:\n",
    "    guess = int(input(\"Guess the secret number (1-10): \"))\n",
    "    if guess < secret_number:\n",
    "        print(\"Too low!\")\n",
    "    elif guess > secret_number:\n",
    "        print(\"Too high!\")\n",
    "    else:\n",
    "        print(\"Congratulations! You've guessed the number.\")"
   ]
  },
  {
   "cell_type": "code",
   "execution_count": 7,
   "id": "526cb369",
   "metadata": {},
   "outputs": [
    {
     "name": "stdout",
     "output_type": "stream",
     "text": [
      "10 11 13 "
     ]
    }
   ],
   "source": [
    "for num in range(10, 16):\n",
    "\n",
    "    if num % 3 == 0:\n",
    "\n",
    "        continue\n",
    "\n",
    "    if num == 14:\n",
    "\n",
    "        break\n",
    "\n",
    "    print(num, end=\" \")"
   ]
  },
  {
   "cell_type": "code",
   "execution_count": 12,
   "id": "6c49edc8",
   "metadata": {},
   "outputs": [
    {
     "name": "stdout",
     "output_type": "stream",
     "text": [
      "0\n",
      "1\n",
      "2\n"
     ]
    }
   ],
   "source": [
    "for i in range(5):\n",
    "\n",
    "    if i == 3:\n",
    "\n",
    "        break\n",
    "\n",
    "    print(i)"
   ]
  },
  {
   "cell_type": "markdown",
   "id": "a5044132",
   "metadata": {},
   "source": [
    "# Assignment: Explore Loops in Python"
   ]
  },
  {
   "cell_type": "code",
   "execution_count": 16,
   "id": "e801a025",
   "metadata": {},
   "outputs": [
    {
     "name": "stdout",
     "output_type": "stream",
     "text": [
      "5 4 3 2 1 To the infinity and beyond 🎉\n"
     ]
    }
   ],
   "source": [
    "# Task 1 - Counting Down with Loops\n",
    "# Ask the user for a starting nummer\n",
    "num = int(input(\"Enter a starting number for countdown: \"))\n",
    "\n",
    "# Use a while loop to print numbers from that number down to 1\n",
    "while num >= 1:\n",
    "    print(num, end=\" \")\n",
    "    num -= 1\n",
    "\n",
    "# Print a celebration message at the end\n",
    "print(\"To the infinity and beyond 🎉\")"
   ]
  },
  {
   "cell_type": "code",
   "execution_count": null,
   "id": "6648d570",
   "metadata": {},
   "outputs": [
    {
     "name": "stdout",
     "output_type": "stream",
     "text": [
      "6 x 1 = 6\n",
      "6 x 2 = 12\n",
      "6 x 3 = 18\n",
      "6 x 4 = 24\n",
      "6 x 5 = 30\n",
      "6 x 6 = 36\n",
      "6 x 7 = 42\n",
      "6 x 8 = 48\n",
      "6 x 9 = 54\n",
      "6 x 10 = 60\n"
     ]
    }
   ],
   "source": [
    "# Task 2 - Multiplication Table with Foor Loops\n",
    "\n",
    "# Ask the user for a number to input a number\n",
    "num_mult = int(input(\"\\nEnter a number see the table: \"))\n",
    "\n",
    "# Use a for loop to print the multiplication table for that number\n",
    "for i in range(1, 11):\n",
    "    result = num_mult * i\n",
    "    print(f\"{num_mult} x {i} = {result}\")"
   ]
  },
  {
   "cell_type": "code",
   "execution_count": 25,
   "id": "cb609e5b",
   "metadata": {},
   "outputs": [
    {
     "name": "stdout",
     "output_type": "stream",
     "text": [
      "The factorial of 5 is 120\n"
     ]
    }
   ],
   "source": [
    "# Task 3 - Find the Factorial\n",
    "# Ask the user for a number to calculate the factorial\n",
    "num_factorial = int(input(\"\\nEnter a number to calculate its factorial: \"))\n",
    "\n",
    "# Use a for loop to calculate the factorial\n",
    "result_factorial = 1\n",
    "for i in range(1, num_factorial + 1):\n",
    "    result_factorial *= i\n",
    "print(f\"The factorial of {num_factorial} is {result_factorial}\")"
   ]
  }
 ],
 "metadata": {
  "kernelspec": {
   "display_name": "venv",
   "language": "python",
   "name": "python3"
  },
  "language_info": {
   "codemirror_mode": {
    "name": "ipython",
    "version": 3
   },
   "file_extension": ".py",
   "mimetype": "text/x-python",
   "name": "python",
   "nbconvert_exporter": "python",
   "pygments_lexer": "ipython3",
   "version": "3.13.3"
  }
 },
 "nbformat": 4,
 "nbformat_minor": 5
}
