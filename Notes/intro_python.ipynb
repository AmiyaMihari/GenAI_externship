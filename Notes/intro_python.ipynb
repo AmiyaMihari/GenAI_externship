{
 "cells": [
  {
   "cell_type": "code",
   "execution_count": 13,
   "id": "237b8f28",
   "metadata": {},
   "outputs": [
    {
     "name": "stdout",
     "output_type": "stream",
     "text": [
      "Hello, World!\n"
     ]
    }
   ],
   "source": [
    "print(\"Hello, World!\")"
   ]
  },
  {
   "cell_type": "code",
   "execution_count": 6,
   "id": "24622ac3",
   "metadata": {},
   "outputs": [
    {
     "name": "stdout",
     "output_type": "stream",
     "text": [
      "Librerías instaladas correctamente.\n"
     ]
    }
   ],
   "source": [
    "import numpy\n",
    "import pandas\n",
    "import matplotlib\n",
    "import seaborn\n",
    "import sklearn\n",
    "print(\"Librerías instaladas correctamente.\")"
   ]
  },
  {
   "cell_type": "code",
   "execution_count": 12,
   "id": "5aa31d4d",
   "metadata": {},
   "outputs": [
    {
     "name": "stdout",
     "output_type": "stream",
     "text": [
      "Versión de Python: 3.11.5 (tags/v3.11.5:cce6ba9, Aug 24 2023, 14:38:34) [MSC v.1936 64 bit (AMD64)]\n",
      "Versión de Numpy: 1.26.4\n",
      "Versión de Pandas: 2.2.3\n",
      "Versión de Matplotlib: 3.9.0\n",
      "Versión de Seaborn: 0.13.2\n",
      "Versión de Scikit-learn: 1.5.1\n"
     ]
    }
   ],
   "source": [
    "# Imprimir la version de python\n",
    "import sys\n",
    "print(\"Versión de Python:\", sys.version)\n",
    "print(\"Versión de Numpy:\", numpy.__version__)\n",
    "print(\"Versión de Pandas:\", pandas.__version__)\n",
    "print(\"Versión de Matplotlib:\", matplotlib.__version__)\n",
    "print(\"Versión de Seaborn:\", seaborn.__version__)\n",
    "print(\"Versión de Scikit-learn:\", sklearn.__version__)"
   ]
  },
  {
   "cell_type": "code",
   "execution_count": 15,
   "id": "84da5ac8",
   "metadata": {},
   "outputs": [
    {
     "name": "stdout",
     "output_type": "stream",
     "text": [
      "Edad: 25\n",
      "Altura: 1.75\n",
      "Nota: a\n"
     ]
    }
   ],
   "source": [
    "# Definición de variables\n",
    "age = 25\n",
    "height = 1.75   \n",
    "grade = 'a'\n",
    "print(\"Edad:\", age)\n",
    "print(\"Altura:\", height)\n",
    "print(\"Nota:\", grade)\n"
   ]
  },
  {
   "cell_type": "code",
   "execution_count": null,
   "id": "8d4a7bae",
   "metadata": {},
   "outputs": [],
   "source": [
    "#Type Casting es el proceso de convertir un tipo de dato a otro\n",
    "age = \"25\" # Cambiar a string\n",
    "age = int(age)  # Convertir a entero\n",
    "height = \"1.75\" # Cambiar a string"
   ]
  },
  {
   "cell_type": "code",
   "execution_count": null,
   "id": "4e15c1f4",
   "metadata": {},
   "outputs": [
    {
     "name": "stdout",
     "output_type": "stream",
     "text": [
      "Suma: 15\n",
      "Resta: 5\n",
      "Multiplicación: 50\n",
      "División: 2.0\n",
      "Módulo: 0\n",
      "Igual: False\n",
      "Diferente: True\n",
      "Mayor: True\n",
      "Caso 1 (AND): False\n",
      "Caso 2 (OR): True\n",
      "Caso 3 (NOT): False\n"
     ]
    }
   ],
   "source": [
    "# Operadores aritméticos\n",
    "a = 10\n",
    "b = 5\n",
    "suma = a + b\n",
    "resta = a - b\n",
    "multiplicacion = a * b\n",
    "division = a / b\n",
    "modulo = a % b\n",
    "print(\"Suma:\", suma)\n",
    "print(\"Resta:\", resta)\n",
    "print(\"Multiplicación:\", multiplicacion)\n",
    "print(\"División:\", division)\n",
    "print(\"Módulo:\", modulo)\n",
    "\n",
    "# Operadores de comparación\n",
    "a = 10\n",
    "b = 5\n",
    "igual = a == b\n",
    "diferente = a != b\n",
    "mayor = a > b\n",
    "menor = a < b\n",
    "mayor_igual = a >= b\n",
    "menor_igual = a <= b\n",
    "print(\"Igual:\", igual)\n",
    "print(\"Diferente:\", diferente)\n",
    "print(\"Mayor:\", mayor)\n",
    "\n",
    "# Operadores lógicos\n",
    "a = True\n",
    "b = False\n",
    "caso1 = a and b\n",
    "caso2 = a or b\n",
    "caso3 = not a\n",
    "print(\"Caso 1 (AND):\", caso1) # Conjunción lógica\n",
    "print(\"Caso 2 (OR):\", caso2) # Disyunción lógica\n",
    "print(\"Caso 3 (NOT):\", caso3) # Negación de a\n",
    "\n"
   ]
  }
 ],
 "metadata": {
  "kernelspec": {
   "display_name": "Python 3",
   "language": "python",
   "name": "python3"
  },
  "language_info": {
   "codemirror_mode": {
    "name": "ipython",
    "version": 3
   },
   "file_extension": ".py",
   "mimetype": "text/x-python",
   "name": "python",
   "nbconvert_exporter": "python",
   "pygments_lexer": "ipython3",
   "version": "3.11.5"
  }
 },
 "nbformat": 4,
 "nbformat_minor": 5
}
