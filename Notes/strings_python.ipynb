{
 "cells": [
  {
   "cell_type": "markdown",
   "id": "7fe83187",
   "metadata": {},
   "source": [
    "# Strings"
   ]
  },
  {
   "cell_type": "markdown",
   "id": "0ff4bb6c",
   "metadata": {},
   "source": [
    "Strings in Python are like super flexible word containers—ideal for handling text and more! Let’s unpack the basics so you can start using them like a pro.\n",
    "\n",
    "This module covers:\n",
    "\n",
    "- What Are Strings?: They're just sequences of characters. You can wrap text in single quotes (' '), double quotes (\" \"), or even triple quotes for multi-line strings (''' ''' or \"\"\" \"\"\").\n",
    "\n",
    "- String Operations: Concatenate ('+' to combine), repeat ('*' to duplicate), or check membership ('in' to search). Quick and easy text manipulation!\n",
    "\n",
    "- String Methods: Python's strings come with built-in tools—lower() for lowercase, upper() for uppercase, split() to break strings apart, and so many more.\n",
    "\n",
    "- Slicing Strings: Pick and choose parts of your string using indices, like grabbing just the first or last few characters."
   ]
  },
  {
   "cell_type": "markdown",
   "id": "6a10e01f",
   "metadata": {},
   "source": [
    "Strings in Python are like little containers for text—anything from a single letter to full-blown sentences or even pages of text. Think of them as a way to tell Python, \"Hey, treat this as words or characters, not numbers or something else.\"\n",
    "\n",
    "Here’s the deal:\n",
    "\n",
    "- What Makes a String?\n",
    "A string is basically a bunch of characters (letters, numbers, symbols) wrapped up in quotes. You can use single quotes (`'`), double quotes (`\"`), or even triple quotes (`'''` or `\"\"\"`) for longer, multi-line text.\n",
    "\n",
    "    ```python\n",
    "    single_quote = 'This is a string'\n",
    "    double_quote = \"This is also a string\"\n",
    "    triple_quote = '''This can go over multiple lines!'''\n",
    "    ```\n",
    "\n",
    "- Why Strings Matter: Whenever you’re working with text—like user input, messages, file contents, or even code outputs—you’re using strings. They’re everywhere in Python!\n",
    "\n",
    "- Fun Fact: Strings can include just about any character you can think of, even emojis! 🎉\n",
    "\n",
    "    ```python\n",
    "    emoji_string = \"Python is fun\"\n",
    "    ```\n",
    "\n",
    "- Don’t Forget: Strings are always surrounded by quotes. If you forget to close them, Python will throw a fit (well, an error, but you get the point).\n",
    "\n",
    "\n",
    "Strings are basically your go-to for any kind of text in Python. Once you start using them, you’ll see how essential (and fun!) they are. "
   ]
  },
  {
   "cell_type": "markdown",
   "id": "ffbd93af",
   "metadata": {},
   "source": [
    "# Accessing Characters and Slices\n",
    "\n",
    "Want to pick out a single letter or grab a chunk of text? Python makes it super easy.\n",
    "\n",
    "## Indexing\n",
    "Every character in a string has a position (called an index). The first one starts at 0.\n"
   ]
  },
  {
   "cell_type": "code",
   "execution_count": 30,
   "id": "b2b6bf47",
   "metadata": {},
   "outputs": [
    {
     "name": "stdout",
     "output_type": "stream",
     "text": [
      "H\n"
     ]
    }
   ],
   "source": [
    "greeting = \"Hello, World!\"\n",
    "first_char = greeting[0] # 'H'\n",
    "print(first_char)"
   ]
  },
  {
   "cell_type": "markdown",
   "id": "a664aa6b",
   "metadata": {},
   "source": [
    "**Negative Indexing:** Start counting backward with negative numbers.\n"
   ]
  },
  {
   "cell_type": "code",
   "execution_count": 13,
   "id": "3a509f18",
   "metadata": {},
   "outputs": [
    {
     "name": "stdout",
     "output_type": "stream",
     "text": [
      "!\n"
     ]
    }
   ],
   "source": [
    "last_char = greeting[-1] # '!'\n",
    "print(last_char)"
   ]
  },
  {
   "cell_type": "markdown",
   "id": "e8ec9da2",
   "metadata": {},
   "source": [
    "## Slicing\n",
    "Need a part of the string? Use slicing to grab a piece!\n"
   ]
  },
  {
   "cell_type": "code",
   "execution_count": 15,
   "id": "1457ef70",
   "metadata": {},
   "outputs": [
    {
     "name": "stdout",
     "output_type": "stream",
     "text": [
      "Hello\n"
     ]
    }
   ],
   "source": [
    "slice = greeting[0:5] # 'Hello'\n",
    "print(slice)\n"
   ]
  },
  {
   "cell_type": "markdown",
   "id": "393a1bb9",
   "metadata": {},
   "source": [
    "# Finding the Length of a String\n",
    "\n",
    "Want to know how long your string is? Python’s `len()` function has your back.\n"
   ]
  },
  {
   "cell_type": "code",
   "execution_count": 17,
   "id": "df1fd305",
   "metadata": {},
   "outputs": [
    {
     "name": "stdout",
     "output_type": "stream",
     "text": [
      "13\n"
     ]
    }
   ],
   "source": [
    "length = len(greeting) # 13\n",
    "print(length)\n"
   ]
  },
  {
   "cell_type": "markdown",
   "id": "dee66158",
   "metadata": {},
   "source": [
    "# String Operations\n",
    "\n",
    "Strings love to play around, and Python gives you tools to do just that!\n",
    "\n",
    "### Concatenation (`+`)\n",
    "Combine strings like building blocks."
   ]
  },
  {
   "cell_type": "code",
   "execution_count": 19,
   "id": "aa460fb3",
   "metadata": {},
   "outputs": [
    {
     "name": "stdout",
     "output_type": "stream",
     "text": [
      "Hello World!\n"
     ]
    }
   ],
   "source": [
    "full = \"Hello\" + \" \" + \"World!\" # 'Hello World!'\n",
    "print(full)"
   ]
  },
  {
   "cell_type": "markdown",
   "id": "6b4ea7ed",
   "metadata": {},
   "source": [
    "### Repetition (`*`)\n",
    "Repeat strings as much as you want."
   ]
  },
  {
   "cell_type": "code",
   "execution_count": 21,
   "id": "88cf0046",
   "metadata": {},
   "outputs": [
    {
     "name": "stdout",
     "output_type": "stream",
     "text": [
      "hahaha\n"
     ]
    }
   ],
   "source": [
    "laugh = \"ha\" * 3 # 'hahaha'\n",
    "print(laugh)"
   ]
  },
  {
   "cell_type": "markdown",
   "id": "67c356ff",
   "metadata": {},
   "source": [
    "### Membership (`in`)\n",
    "Check if a word or letter is inside your string.\n"
   ]
  },
  {
   "cell_type": "code",
   "execution_count": 32,
   "id": "3eda203a",
   "metadata": {},
   "outputs": [
    {
     "name": "stdout",
     "output_type": "stream",
     "text": [
      "True\n"
     ]
    }
   ],
   "source": [
    "greeting = \"Hello, World!\"\n",
    "state = \"Hello\" in greeting # True\n",
    "print(state)"
   ]
  },
  {
   "cell_type": "markdown",
   "id": "b6114f65",
   "metadata": {},
   "source": [
    "# String Methods\n",
    "\n",
    "Strings come loaded with handy tools (aka methods) to make your life easier:\n",
    "\n",
    "- `upper()`: Make it ALL CAPS.\n",
    "- `lower()`: Make it all lowercase.\n",
    "- `title()`: Capitalize the first letter of every word."
   ]
  },
  {
   "cell_type": "code",
   "execution_count": 34,
   "id": "5e4dd818",
   "metadata": {},
   "outputs": [
    {
     "name": "stdout",
     "output_type": "stream",
     "text": [
      "PYTHON\n"
     ]
    }
   ],
   "source": [
    "print(\"python\".upper()) # 'PYTHON'"
   ]
  },
  {
   "cell_type": "markdown",
   "id": "0b7ded79",
   "metadata": {},
   "source": [
    "## Find and Replace\n",
    "\n",
    "- `find()`: Locate where something is.\n",
    "- `replace()`: Swap something out.\n"
   ]
  },
  {
   "cell_type": "code",
   "execution_count": 36,
   "id": "740712dd",
   "metadata": {},
   "outputs": [
    {
     "name": "stdout",
     "output_type": "stream",
     "text": [
      "Hello, Python!\n"
     ]
    }
   ],
   "source": [
    "print(\"Hello, World!\".replace(\"World\", \"Python\")) # 'Hello, Python!'"
   ]
  },
  {
   "cell_type": "markdown",
   "id": "a17b6adf",
   "metadata": {},
   "source": [
    "## Trim Whitespace\n",
    "\n",
    "- `strip()`, `lstrip()`, `rstrip()`: Remove unwanted spaces from your string.\n"
   ]
  },
  {
   "cell_type": "code",
   "execution_count": 37,
   "id": "809380f3",
   "metadata": {},
   "outputs": [
    {
     "name": "stdout",
     "output_type": "stream",
     "text": [
      "Hello!\n"
     ]
    }
   ],
   "source": [
    "print(\" Hello! \".strip()) # 'Hello!'\n"
   ]
  },
  {
   "cell_type": "markdown",
   "id": "995f1196",
   "metadata": {},
   "source": [
    "# Escape Sequences\n",
    "\n",
    "Need to add something special to your string? Escape sequences are your secret weapon:\n",
    "\n",
    "- `\\n`: New line  \n",
    "- `\\t`: Tab  \n",
    "- `\\\\`: Backslash  \n",
    "- `\\'` or `\\\"`: Single or double quotes  "
   ]
  },
  {
   "cell_type": "code",
   "execution_count": 38,
   "id": "185558c5",
   "metadata": {},
   "outputs": [
    {
     "name": "stdout",
     "output_type": "stream",
     "text": [
      "Hello,\n",
      "World!\n"
     ]
    }
   ],
   "source": [
    "print(\"Hello,\\nWorld!\") # Output:\n",
    "# Hello,\n",
    "# World!"
   ]
  },
  {
   "cell_type": "markdown",
   "id": "153e0fb9",
   "metadata": {},
   "source": [
    "# Looping Through Strings\n",
    "\n",
    "Want to do something with every single character in your string? Loops to the rescue!"
   ]
  },
  {
   "cell_type": "code",
   "execution_count": 39,
   "id": "aca97d9a",
   "metadata": {},
   "outputs": [
    {
     "name": "stdout",
     "output_type": "stream",
     "text": [
      "P\n",
      "y\n",
      "t\n",
      "h\n",
      "o\n",
      "n\n"
     ]
    }
   ],
   "source": [
    "for char in \"Python\":\n",
    "    print(char)"
   ]
  },
  {
   "cell_type": "markdown",
   "id": "7c8ee259",
   "metadata": {},
   "source": [
    "Or grab both the index and the character:"
   ]
  },
  {
   "cell_type": "code",
   "execution_count": 40,
   "id": "fa3f9607",
   "metadata": {},
   "outputs": [
    {
     "name": "stdout",
     "output_type": "stream",
     "text": [
      "0 P\n",
      "1 y\n",
      "2 t\n",
      "3 h\n",
      "4 o\n",
      "5 n\n"
     ]
    }
   ],
   "source": [
    "for index, char in enumerate(\"Python\"):\n",
    "    print(index, char)"
   ]
  },
  {
   "cell_type": "markdown",
   "id": "393ec604",
   "metadata": {},
   "source": [
    "# String Comparisons\n",
    "\n",
    "Compare strings easily with `==`, `!=`, `<`, `>`. Perfect for sorting, filtering, or checking if things match.\n"
   ]
  },
  {
   "cell_type": "code",
   "execution_count": 43,
   "id": "b3f1f171",
   "metadata": {},
   "outputs": [
    {
     "name": "stdout",
     "output_type": "stream",
     "text": [
      "True\n"
     ]
    }
   ],
   "source": [
    "print(\"apple\" < \"banana\") # True"
   ]
  },
  {
   "cell_type": "markdown",
   "id": "19d8690b",
   "metadata": {},
   "source": [
    "Strings are everywhere—seriously, you can’t escape them! Learn these basics, and you’ll be ready to handle any text-based task Python throws your way."
   ]
  }
 ],
 "metadata": {
  "kernelspec": {
   "display_name": "venv",
   "language": "python",
   "name": "python3"
  },
  "language_info": {
   "codemirror_mode": {
    "name": "ipython",
    "version": 3
   },
   "file_extension": ".py",
   "mimetype": "text/x-python",
   "name": "python",
   "nbconvert_exporter": "python",
   "pygments_lexer": "ipython3",
   "version": "3.13.3"
  }
 },
 "nbformat": 4,
 "nbformat_minor": 5
}
